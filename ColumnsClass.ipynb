{
 "cells": [
  {
   "cell_type": "markdown",
   "metadata": {},
   "source": [
    "# Column Class"
   ]
  },
  {
   "cell_type": "code",
   "execution_count": 7,
   "metadata": {},
   "outputs": [],
   "source": [
    "class Column(object):\n",
    "    def __init__(self, name, attribute, col_type, verb):\n",
    "        self.name = name\n",
    "        self.attribute = attribute\n",
    "        self.type = col_type\n",
    "        self.verb = verb\n",
    "        \n",
    "    def is_binary(self):\n",
    "        return self.type == \"binary\"\n",
    "    \n",
    "    def is_categorical(self):\n",
    "        return self.type == \"categorical\"\n",
    "    \n",
    "    def is_numerical(self):\n",
    "        return self.type == \"numerical\"\n",
    "    \n",
    "    def create_sentence(self, value, prefix, missing_word, replace_numbers, descriptive):\n",
    "        if descriptive:\n",
    "            return self.fn_descriptive(value, prefix, missing_word, replace_numbers)\n",
    "        else:\n",
    "            return self.fn_basic(value, prefix, missing_word, replace_numbers)\n",
    "        \n",
    "        \n",
    "class Binary_Column(Column):\n",
    "    def __init__(self, name, attribute, verb, neg_verb):\n",
    "        self.neg_verb = neg_verb\n",
    "        super().__init__(name, attribute, \"binary\", verb)\n",
    "        \n",
    "\n",
    "    def create_descriptive_sentence(self, value, prefix, missing_word, replace_numbers):\n",
    "        sentence = \"\"\n",
    "        if str(value).lower()  in [\"1\", \"0\", \"true\", \"false\"]:\n",
    "            if int(value) == 1:\n",
    "                sentence = prefix + self.verb + \" \" + self.attribute\n",
    "            elif int(value) == 0:\n",
    "                sentence = prefix + self.neg_verb + \" \" + self.attribute\n",
    "        return sentence\n",
    "            \n",
    "\n",
    "    def create_basic_sentence(self, value, prefix, missing_word, replace_numbers):\n",
    "        sentence = \"\"\n",
    "        if str(value).lower()  in [\"1\", \"0\", \"true\", \"false\"]:\n",
    "            if int(value) == 1:\n",
    "                sentence = self.verb + \" \" + self.attribute + \": yes\" \n",
    "            elif int(value) == 0:\n",
    "                sentence = self.neg_verb + \" \" + self.attribute + \": no\"\n",
    "        elif missing_word != \"\":\n",
    "            sentence = self.verb + \" \" + self.attribute + \": \" + missing_word\n",
    "        return sentence\n",
    "        \n",
    "class Categorical_Column(Column):\n",
    "    def __init__(self, name, attribute, verb):\n",
    "        super().__init__(name, attribute, \"categorical\", verb)\n",
    "\n",
    "    def create_descriptive_sentence(self, value, prefix, missing_word, replace_numbers):\n",
    "        sentence = \"\"\n",
    "        if str(value).lower() not in [\"nan\", \"\", \"none\", \"missing\"]:\n",
    "            sentence = prefix + self.attribute + \" \" + self.verb + \" \" + str(value)\n",
    "        elif  missing_word != \"\":\n",
    "            sentence = prefix + self.attribute + \" \" + self.verb + \" \" + missing_word\n",
    "        return sentence\n",
    "            \n",
    "\n",
    "    def create_basic_sentence(self, value, prefix, missing_word, replace_numbers):\n",
    "        sentence = \"\"\n",
    "        if  str(value).lower() not in [\"nan\", \"\", \"none\", \"missing\"]:\n",
    "            sentence = self.attribute + \": \" + str(value)\n",
    "        elif missing_word != \"\":\n",
    "            sentence = self.attribute + \": \" + missing_word\n",
    "        return sentence\n",
    "    \n",
    "class Numerical_Column(Column):\n",
    "    def __init__(self, name, attribute, verb, avg, sd):\n",
    "        self.avg = avg\n",
    "        self.sd = sd\n",
    "        super().__init__(name, attribute, \"numerical\", verb)\n",
    "        \n",
    "        \n",
    "    def create_descriptive_sentence(self, value, prefix, missing_word, replace_numbers):\n",
    "        sentence = \"\"\n",
    "        if str(value).lower() not in [\"nan\", \"\", \"none\", \"missing\"]:\n",
    "            col_value = self.encode_number(value, replace_numbers)\n",
    "            sentence = prefix + self.attribute + \" \" + self.verb + \" \" + str(col_value) \n",
    "        elif  missing_word != \"\":\n",
    "            sentence = prefix + self.attribute + \" \" + self.verb + \" \" + missing_word \n",
    "        return sentence\n",
    "            \n",
    "\n",
    "    def create_basic_sentence(self, value, prefix, missing_word, replace_numbers):\n",
    "        sentence = \"\"\n",
    "        if  str(value).lower() not in [\"nan\", \"\", \"none\", \"missing\"]:\n",
    "            col_value = self.encode_number(value, replace_numbers)\n",
    "            sentence = self.attribute + \": \" + str(col_value)\n",
    "        elif missing_word != \"\":\n",
    "            sentence = self.attribute + \": \" + missing_word\n",
    "        return sentence\n",
    "    \n",
    "    def encode_number(self, value, replace_numbers):\n",
    "        new_value = value\n",
    "        if replace_numbers:\n",
    "            if self.avg - 2*self.sd > value:\n",
    "                new_value = \"very low\"\n",
    "            elif self.avg - 2*self.sd <= value < self.avg - self.sd:\n",
    "                new_value = \"low\"\n",
    "            elif self.avg + 2*self.sd >= value > self.avg + self.sd:\n",
    "                new_value = \"high\"\n",
    "            elif self.avg + 2*self.sd < value:\n",
    "                new_value = \"very high\"\n",
    "            else:\n",
    "                new_value = \"normal\"\n",
    "        return new_value"
   ]
  },
  {
   "cell_type": "markdown",
   "metadata": {},
   "source": [
    "## Column Testing"
   ]
  },
  {
   "cell_type": "code",
   "execution_count": 8,
   "metadata": {},
   "outputs": [],
   "source": [
    "bin_col = Binary_Column(\"hisp\", \"hispanic\", \"is\", \"is not\")"
   ]
  },
  {
   "cell_type": "code",
   "execution_count": 10,
   "metadata": {},
   "outputs": [
    {
     "data": {
      "text/plain": [
       "'the patient is hispanic'"
      ]
     },
     "execution_count": 10,
     "metadata": {},
     "output_type": "execute_result"
    }
   ],
   "source": [
    "bin_col.create_descriptive_sentence(\"1\", \"the patient \",\"is missing\", True)"
   ]
  },
  {
   "cell_type": "code",
   "execution_count": 108,
   "metadata": {},
   "outputs": [],
   "source": [
    "cat_col = Categorical_Column(\"nat\", \"nationality\", \"is\")"
   ]
  },
  {
   "cell_type": "code",
   "execution_count": 109,
   "metadata": {},
   "outputs": [],
   "source": [
    "num_col = Numerical_Column(\"tmp\", \"temperature\",  \"is\", 10, 3)"
   ]
  },
  {
   "cell_type": "markdown",
   "metadata": {},
   "source": [
    "# Tabular Class"
   ]
  },
  {
   "cell_type": "code",
   "execution_count": 2,
   "metadata": {},
   "outputs": [],
   "source": [
    "import pandas as pd\n",
    "from math import isnan\n",
    "from transformers import AutoTokenizer, AutoModel, logging\n",
    "import torch\n",
    "import numpy as np\n",
    "\n",
    "#One table per patient per tabular data structure\n",
    "class Table(object):\n",
    "    def __init__(self, name, df, columns, metadata, time_col):\n",
    "        self.name = name\n",
    "        self.headers = df.columns\n",
    "        self.columns = columns\n",
    "        self.metadata = metadata\n",
    "        self.df = df\n",
    "        self.time_col = time_col\n",
    "\n",
    "        \n",
    "    def create_weighted_text(self, prefix, missing_word, replace_numbers, descriptive):    \n",
    "        text = []\n",
    "        for t_i in range(self.df.shape[0]):\n",
    "            text_i = self.metadata\n",
    "            \n",
    "            for column in self.columns:\n",
    "                value = self.df[t_i, column.name]\n",
    "                text_i += column.create_sentence(value, prefix, missing_word, replace_numbers, descriptive) + \", \"\n",
    "                \n",
    "            text.append(text_i)\n",
    "    \n",
    "        self.df[\"text\"] = text \n",
    "\n",
    "    \n",
    "    def create_weighted_embeddings(self):\n",
    "        embeddings = []\n",
    "\n",
    "        for i in range(self.weighted_text.shape[0]):\n",
    "            text = self.weighted_text.iloc[i][\"text\"]\n",
    "            full_embedding = get_biobert_embeddings(text)[0]\n",
    "            embeddings.append(full_embedding.reshape(-1))\n",
    "\n",
    "        self.df[\"embeddings\"] = embeddings\n",
    "        \n",
    "    def create_timebounded_embeddings(self, start_hr, end_hr):\n",
    "        timebounded_df = self.df\n",
    "        \n",
    "        if start_hr is not None:\n",
    "            timebounded_df = timebounded_df[timebounded_df[time_col]>= start_hr]\n",
    "        if end_hr is not None:\n",
    "            timebounded_df = timebounded_df[timebounded_df[time_col]<= end_hr]\n",
    "            \n",
    "        timebound_df[\"weights\"] = create_time_weights(timebound_df[self.time_col])\n",
    "        \n",
    "        return timebound_df\n",
    "    \n",
    "    "
   ]
  },
  {
   "cell_type": "markdown",
   "metadata": {},
   "source": [
    "# Patient Class"
   ]
  },
  {
   "cell_type": "code",
   "execution_count": null,
   "metadata": {},
   "outputs": [],
   "source": [
    "class Patient(object):\n",
    "    def __init__(self, tables, pat_id, time_col):\n",
    "        self.id = pat_id\n",
    "        \n",
    "        for table in tables:\n",
    "            setattr(self, table.name , table)\n",
    "\n",
    "        \n",
    "    def create_embeddings(self, start_hr = None, end_hr = None, single_embedding=True):\n",
    "        \n",
    "        \n",
    "    \n",
    "    \n",
    "        "
   ]
  },
  {
   "cell_type": "code",
   "execution_count": null,
   "metadata": {},
   "outputs": [],
   "source": [
    "def create_tables():\n",
    "    #TO_DO\n",
    "    \n",
    "def get_columns(attributes_map, verb_map, type_map):\n",
    "    #TO-DO"
   ]
  },
  {
   "cell_type": "markdown",
   "metadata": {},
   "source": [
    "# Utils"
   ]
  },
  {
   "cell_type": "code",
   "execution_count": null,
   "metadata": {},
   "outputs": [],
   "source": [
    "import pandas as pd\n",
    "from math import isnan\n",
    "from transformers import AutoTokenizer, AutoModel, logging\n",
    "import torch\n",
    "import numpy as np\n",
    "\n",
    "def get_biobert_embeddings(text):\n",
    "    # Inputs:\n",
    "    #   text -> Input text (str)\n",
    "    #\n",
    "    # Outputs:\n",
    "    #   embeddings -> Final Biobert embeddings with vector dimensionality = (1,768)\n",
    "    #   hidden_embeddings -> Last hidden layer in Biobert model with vector dimensionality = (token_size,768)\n",
    "\n",
    "    # %% EXAMPLE OF USE\n",
    "    # embeddings, hidden_embeddings = get_biobert_embeddings(text)\n",
    "\n",
    "    tokens_pt = biobert_tokenizer(text, return_tensors=\"pt\")\n",
    "    outputs = biobert_model(**tokens_pt)\n",
    "    last_hidden_state = outputs.last_hidden_state\n",
    "    pooler_output = outputs.pooler_output\n",
    "    hidden_embeddings = last_hidden_state.detach().numpy()\n",
    "    embeddings = pooler_output.detach().numpy()\n",
    "\n",
    "    return embeddings, hidden_embeddings\n",
    "\n",
    "def create_time_weights(timestamps):\n",
    "    #TO-DO\n",
    "    n = len(timestamps)\n",
    "    return [1/n for i in range(n)]"
   ]
  }
 ],
 "metadata": {
  "kernelspec": {
   "display_name": "Python 3",
   "language": "python",
   "name": "python3"
  },
  "language_info": {
   "codemirror_mode": {
    "name": "ipython",
    "version": 3
   },
   "file_extension": ".py",
   "mimetype": "text/x-python",
   "name": "python",
   "nbconvert_exporter": "python",
   "pygments_lexer": "ipython3",
   "version": "3.8.5"
  },
  "latex_envs": {
   "LaTeX_envs_menu_present": true,
   "autoclose": false,
   "autocomplete": true,
   "bibliofile": "biblio.bib",
   "cite_by": "apalike",
   "current_citInitial": 1,
   "eqLabelWithNumbers": true,
   "eqNumInitial": 1,
   "hotkeys": {
    "equation": "Ctrl-E",
    "itemize": "Ctrl-I"
   },
   "labels_anchors": false,
   "latex_user_defs": false,
   "report_style_numbering": false,
   "user_envs_cfg": false
  },
  "toc": {
   "base_numbering": 1,
   "nav_menu": {},
   "number_sections": true,
   "sideBar": true,
   "skip_h1_title": false,
   "title_cell": "Table of Contents",
   "title_sidebar": "Contents",
   "toc_cell": false,
   "toc_position": {},
   "toc_section_display": true,
   "toc_window_display": false
  },
  "varInspector": {
   "cols": {
    "lenName": 16,
    "lenType": 16,
    "lenVar": 40
   },
   "kernels_config": {
    "python": {
     "delete_cmd_postfix": "",
     "delete_cmd_prefix": "del ",
     "library": "var_list.py",
     "varRefreshCmd": "print(var_dic_list())"
    },
    "r": {
     "delete_cmd_postfix": ") ",
     "delete_cmd_prefix": "rm(",
     "library": "var_list.r",
     "varRefreshCmd": "cat(var_dic_list()) "
    }
   },
   "types_to_exclude": [
    "module",
    "function",
    "builtin_function_or_method",
    "instance",
    "_Feature"
   ],
   "window_display": false
  }
 },
 "nbformat": 4,
 "nbformat_minor": 5
}
